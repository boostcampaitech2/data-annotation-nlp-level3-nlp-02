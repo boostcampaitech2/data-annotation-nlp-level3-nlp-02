{
 "cells": [
  {
   "cell_type": "code",
   "execution_count": 2,
   "source": [
    "# google sheet와 연결\n",
    "# 참고 자료 : https://pbj0812.tistory.com/184\n",
    "import gspread\n",
    "from oauth2client.service_account import ServiceAccountCredentials\n",
    "\n",
    "scope = ['https://spreadsheets.google.com/feeds',\n",
    "         'https://www.googleapis.com/auth/drive']\n",
    "\n",
    "#json key file 위치\n",
    "json_file_name = '/opt/ml/project/data/theta-webbing-298612-23be65a42b68.json'\n",
    "\n",
    "# json key file을 이용하여 접속\n",
    "credentials = ServiceAccountCredentials.from_json_keyfile_name(json_file_name, scope)\n",
    "gc = gspread.authorize(credentials)"
   ],
   "outputs": [],
   "metadata": {}
  },
  {
   "cell_type": "code",
   "execution_count": 3,
   "source": [
    "#구글 스프레드 시트 주소\n",
    "spreadsheet_url = \"https://docs.google.com/spreadsheets/d/1Zfhy3xh-2or5dUsSRm9d3yIN4Jhaleh32Rxqejy8hbI/edit#gid=0\"\n",
    "\n",
    "# 스프레드시트 문서 가져오기\n",
    "doc = gc.open_by_url(spreadsheet_url)\n",
    "\n",
    "#시트 선택하기\n",
    "sheet_name = \"final\"\n",
    "worksheet = doc.worksheet(sheet_name)"
   ],
   "outputs": [],
   "metadata": {}
  },
  {
   "cell_type": "code",
   "execution_count": 4,
   "source": [
    "import pandas as pd"
   ],
   "outputs": [],
   "metadata": {}
  },
  {
   "cell_type": "code",
   "execution_count": 5,
   "source": [
    "values = worksheet.get_all_values()\n",
    "header, rows = values[0], values[1:]\n",
    "data = pd.DataFrame(rows, columns=header)"
   ],
   "outputs": [],
   "metadata": {}
  },
  {
   "cell_type": "code",
   "execution_count": 6,
   "source": [
    "column_list = [\"id\",\"sentence\",\"sentence_with_entity\",\"subject_entity\",\"object_entity\",\"class\"]\n",
    "data = data[column_list]"
   ],
   "outputs": [],
   "metadata": {}
  },
  {
   "cell_type": "code",
   "execution_count": 8,
   "source": [
    "train_data = data[[\"id\", \"sentence\", \"subject_entity\", \"object_entity\", \"class\"]]"
   ],
   "outputs": [],
   "metadata": {}
  },
  {
   "cell_type": "code",
   "execution_count": 9,
   "source": [
    "train_data.rename(columns = {\"class\" : \"label\"}, inplace = True)\n"
   ],
   "outputs": [
    {
     "output_type": "stream",
     "name": "stderr",
     "text": [
      "/opt/conda/lib/python3.8/site-packages/pandas/core/frame.py:4300: SettingWithCopyWarning: \n",
      "A value is trying to be set on a copy of a slice from a DataFrame\n",
      "\n",
      "See the caveats in the documentation: https://pandas.pydata.org/pandas-docs/stable/user_guide/indexing.html#returning-a-view-versus-a-copy\n",
      "  return super().rename(\n"
     ]
    }
   ],
   "metadata": {}
  },
  {
   "cell_type": "code",
   "execution_count": 10,
   "source": [
    "train_data.keys()"
   ],
   "outputs": [
    {
     "output_type": "execute_result",
     "data": {
      "text/plain": [
       "Index(['id', 'sentence', 'subject_entity', 'object_entity', 'label'], dtype='object')"
      ]
     },
     "metadata": {},
     "execution_count": 10
    }
   ],
   "metadata": {}
  },
  {
   "cell_type": "code",
   "execution_count": 11,
   "source": [
    "train_data.head()"
   ],
   "outputs": [
    {
     "output_type": "execute_result",
     "data": {
      "text/plain": [
       "           id                                           sentence  \\\n",
       "0   최소기능제품_67  MVP는 사용자가 제품의 특징과 미래를 정의할 수 있도록 사용자의 말을 듣는 공개 ...   \n",
       "1   최소기능제품_22  MVP는 핵심적인 기능만 있는 제품이기 때문에 외관상 조악하고 부실하게 보일 수 있...   \n",
       "2   최소기능제품_37  예를 들어, 2015년에 시드니 대학의 전문가들이 농장과 잡초 관리를 자동화하기 위...   \n",
       "3  최소기능제품_122  예약하기 전 본인의 위치 주위에 우버 드라이버들을 보여주고, 승차요금을 예상하고, ...   \n",
       "4  최소기능제품_100                      Airbnb는 2007년 샌프란시스코에서 시작되었다.   \n",
       "\n",
       "                                    subject_entity  \\\n",
       "0       {'start': 0, 'text': 'MVP', 'type': 'poh'}   \n",
       "1      {'start': 52, 'text': '창업자', 'type': 'per'}   \n",
       "2   {'start': 14, 'text': '시드니 대학', 'type': 'org'}   \n",
       "3  {'start': 18, 'text': '우버 드라이버', 'type': 'per'}   \n",
       "4    {'start': 0, 'text': 'Airbnb', 'type': 'org'}   \n",
       "\n",
       "                                    object_entity        label  \n",
       "0  {'start': 60, 'text': '조기 릴리스', 'type': 'poh'}  no_relation  \n",
       "1      {'start': 0, 'text': 'MVP', 'type': 'poh'}      product  \n",
       "2   {'start': 48, 'text': '리파 로봇', 'type': 'poh'}      product  \n",
       "3  {'start': 108, 'text': '모바일 앱', 'type': 'poh'}  no_relation  \n",
       "4  {'start': 14, 'text': '샌프란시스코', 'type': 'loc'}     location  "
      ],
      "text/html": [
       "<div>\n",
       "<style scoped>\n",
       "    .dataframe tbody tr th:only-of-type {\n",
       "        vertical-align: middle;\n",
       "    }\n",
       "\n",
       "    .dataframe tbody tr th {\n",
       "        vertical-align: top;\n",
       "    }\n",
       "\n",
       "    .dataframe thead th {\n",
       "        text-align: right;\n",
       "    }\n",
       "</style>\n",
       "<table border=\"1\" class=\"dataframe\">\n",
       "  <thead>\n",
       "    <tr style=\"text-align: right;\">\n",
       "      <th></th>\n",
       "      <th>id</th>\n",
       "      <th>sentence</th>\n",
       "      <th>subject_entity</th>\n",
       "      <th>object_entity</th>\n",
       "      <th>label</th>\n",
       "    </tr>\n",
       "  </thead>\n",
       "  <tbody>\n",
       "    <tr>\n",
       "      <th>0</th>\n",
       "      <td>최소기능제품_67</td>\n",
       "      <td>MVP는 사용자가 제품의 특징과 미래를 정의할 수 있도록 사용자의 말을 듣는 공개 ...</td>\n",
       "      <td>{'start': 0, 'text': 'MVP', 'type': 'poh'}</td>\n",
       "      <td>{'start': 60, 'text': '조기 릴리스', 'type': 'poh'}</td>\n",
       "      <td>no_relation</td>\n",
       "    </tr>\n",
       "    <tr>\n",
       "      <th>1</th>\n",
       "      <td>최소기능제품_22</td>\n",
       "      <td>MVP는 핵심적인 기능만 있는 제품이기 때문에 외관상 조악하고 부실하게 보일 수 있...</td>\n",
       "      <td>{'start': 52, 'text': '창업자', 'type': 'per'}</td>\n",
       "      <td>{'start': 0, 'text': 'MVP', 'type': 'poh'}</td>\n",
       "      <td>product</td>\n",
       "    </tr>\n",
       "    <tr>\n",
       "      <th>2</th>\n",
       "      <td>최소기능제품_37</td>\n",
       "      <td>예를 들어, 2015년에 시드니 대학의 전문가들이 농장과 잡초 관리를 자동화하기 위...</td>\n",
       "      <td>{'start': 14, 'text': '시드니 대학', 'type': 'org'}</td>\n",
       "      <td>{'start': 48, 'text': '리파 로봇', 'type': 'poh'}</td>\n",
       "      <td>product</td>\n",
       "    </tr>\n",
       "    <tr>\n",
       "      <th>3</th>\n",
       "      <td>최소기능제품_122</td>\n",
       "      <td>예약하기 전 본인의 위치 주위에 우버 드라이버들을 보여주고, 승차요금을 예상하고, ...</td>\n",
       "      <td>{'start': 18, 'text': '우버 드라이버', 'type': 'per'}</td>\n",
       "      <td>{'start': 108, 'text': '모바일 앱', 'type': 'poh'}</td>\n",
       "      <td>no_relation</td>\n",
       "    </tr>\n",
       "    <tr>\n",
       "      <th>4</th>\n",
       "      <td>최소기능제품_100</td>\n",
       "      <td>Airbnb는 2007년 샌프란시스코에서 시작되었다.</td>\n",
       "      <td>{'start': 0, 'text': 'Airbnb', 'type': 'org'}</td>\n",
       "      <td>{'start': 14, 'text': '샌프란시스코', 'type': 'loc'}</td>\n",
       "      <td>location</td>\n",
       "    </tr>\n",
       "  </tbody>\n",
       "</table>\n",
       "</div>"
      ]
     },
     "metadata": {},
     "execution_count": 11
    }
   ],
   "metadata": {}
  },
  {
   "cell_type": "code",
   "execution_count": 15,
   "source": [
    "!pwd"
   ],
   "outputs": [
    {
     "output_type": "stream",
     "name": "stdout",
     "text": [
      "/opt/ml/project/data\n"
     ]
    }
   ],
   "metadata": {}
  },
  {
   "cell_type": "code",
   "execution_count": 26,
   "source": [
    "train_data = pd.read_csv('./data/train/startup.csv')"
   ],
   "outputs": [],
   "metadata": {}
  },
  {
   "cell_type": "markdown",
   "source": [
    "## Extracting"
   ],
   "metadata": {}
  },
  {
   "cell_type": "code",
   "execution_count": 30,
   "source": [
    "def preprocessing_dataset(dataset):\n",
    "  \"\"\" 처음 불러온 csv 파일을 원하는 형태의 DataFrame으로 변경 시켜줍니다.\"\"\"\n",
    "  subject_entity = [sub['text'] for sub in dataset.subject_entity.map(eval)]\n",
    "  object_entity = [sub['text'] for sub in dataset.object_entity.map(eval)]\n",
    "  out_dataset = pd.DataFrame({'id':dataset['id'], 'sentence':dataset['sentence'],'subject_entity':subject_entity,'object_entity':object_entity,'label':dataset['label'],})\n",
    "  return out_dataset"
   ],
   "outputs": [],
   "metadata": {}
  },
  {
   "cell_type": "code",
   "execution_count": 31,
   "source": [
    "train_data = preprocessing_dataset(train_data)"
   ],
   "outputs": [],
   "metadata": {}
  },
  {
   "cell_type": "code",
   "execution_count": 32,
   "source": [
    "train_data.head()"
   ],
   "outputs": [
    {
     "output_type": "execute_result",
     "data": {
      "text/plain": [
       "           id                                           sentence  \\\n",
       "0   최소기능제품_67  MVP는 사용자가 제품의 특징과 미래를 정의할 수 있도록 사용자의 말을 듣는 공개 ...   \n",
       "1   최소기능제품_22  MVP는 핵심적인 기능만 있는 제품이기 때문에 외관상 조악하고 부실하게 보일 수 있...   \n",
       "2   최소기능제품_37  예를 들어, 2015년에 시드니 대학의 전문가들이 농장과 잡초 관리를 자동화하기 위...   \n",
       "3  최소기능제품_122  예약하기 전 본인의 위치 주위에 우버 드라이버들을 보여주고, 승차요금을 예상하고, ...   \n",
       "4  최소기능제품_100                      Airbnb는 2007년 샌프란시스코에서 시작되었다.   \n",
       "\n",
       "  subject_entity object_entity        label  \n",
       "0            MVP        조기 릴리스  no_relation  \n",
       "1            창업자           MVP      product  \n",
       "2         시드니 대학         리파 로봇      product  \n",
       "3        우버 드라이버         모바일 앱  no_relation  \n",
       "4         Airbnb        샌프란시스코     location  "
      ],
      "text/html": [
       "<div>\n",
       "<style scoped>\n",
       "    .dataframe tbody tr th:only-of-type {\n",
       "        vertical-align: middle;\n",
       "    }\n",
       "\n",
       "    .dataframe tbody tr th {\n",
       "        vertical-align: top;\n",
       "    }\n",
       "\n",
       "    .dataframe thead th {\n",
       "        text-align: right;\n",
       "    }\n",
       "</style>\n",
       "<table border=\"1\" class=\"dataframe\">\n",
       "  <thead>\n",
       "    <tr style=\"text-align: right;\">\n",
       "      <th></th>\n",
       "      <th>id</th>\n",
       "      <th>sentence</th>\n",
       "      <th>subject_entity</th>\n",
       "      <th>object_entity</th>\n",
       "      <th>label</th>\n",
       "    </tr>\n",
       "  </thead>\n",
       "  <tbody>\n",
       "    <tr>\n",
       "      <th>0</th>\n",
       "      <td>최소기능제품_67</td>\n",
       "      <td>MVP는 사용자가 제품의 특징과 미래를 정의할 수 있도록 사용자의 말을 듣는 공개 ...</td>\n",
       "      <td>MVP</td>\n",
       "      <td>조기 릴리스</td>\n",
       "      <td>no_relation</td>\n",
       "    </tr>\n",
       "    <tr>\n",
       "      <th>1</th>\n",
       "      <td>최소기능제품_22</td>\n",
       "      <td>MVP는 핵심적인 기능만 있는 제품이기 때문에 외관상 조악하고 부실하게 보일 수 있...</td>\n",
       "      <td>창업자</td>\n",
       "      <td>MVP</td>\n",
       "      <td>product</td>\n",
       "    </tr>\n",
       "    <tr>\n",
       "      <th>2</th>\n",
       "      <td>최소기능제품_37</td>\n",
       "      <td>예를 들어, 2015년에 시드니 대학의 전문가들이 농장과 잡초 관리를 자동화하기 위...</td>\n",
       "      <td>시드니 대학</td>\n",
       "      <td>리파 로봇</td>\n",
       "      <td>product</td>\n",
       "    </tr>\n",
       "    <tr>\n",
       "      <th>3</th>\n",
       "      <td>최소기능제품_122</td>\n",
       "      <td>예약하기 전 본인의 위치 주위에 우버 드라이버들을 보여주고, 승차요금을 예상하고, ...</td>\n",
       "      <td>우버 드라이버</td>\n",
       "      <td>모바일 앱</td>\n",
       "      <td>no_relation</td>\n",
       "    </tr>\n",
       "    <tr>\n",
       "      <th>4</th>\n",
       "      <td>최소기능제품_100</td>\n",
       "      <td>Airbnb는 2007년 샌프란시스코에서 시작되었다.</td>\n",
       "      <td>Airbnb</td>\n",
       "      <td>샌프란시스코</td>\n",
       "      <td>location</td>\n",
       "    </tr>\n",
       "  </tbody>\n",
       "</table>\n",
       "</div>"
      ]
     },
     "metadata": {},
     "execution_count": 32
    }
   ],
   "metadata": {}
  }
 ],
 "metadata": {
  "orig_nbformat": 4,
  "language_info": {
   "name": "python",
   "version": "3.8.5",
   "mimetype": "text/x-python",
   "codemirror_mode": {
    "name": "ipython",
    "version": 3
   },
   "pygments_lexer": "ipython3",
   "nbconvert_exporter": "python",
   "file_extension": ".py"
  },
  "kernelspec": {
   "name": "python3",
   "display_name": "Python 3.8.5 64-bit ('base': conda)"
  },
  "interpreter": {
   "hash": "98b0a9b7b4eaaa670588a142fd0a9b87eaafe866f1db4228be72b4211d12040f"
  }
 },
 "nbformat": 4,
 "nbformat_minor": 2
}